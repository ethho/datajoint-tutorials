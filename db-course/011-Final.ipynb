{
 "cells": [
  {
   "cell_type": "markdown",
   "metadata": {},
   "source": [
    "# Final Project\n",
    "\n",
    "In this project, you will write Python code to (a) define, (b) populate, and (c) query a database. \n",
    "Your submission can be a single Jupyter notebook with these three clearly=defined sections. \n",
    "\n",
    "You can propose your own database problem. In that case, first, describe its specification and purpose in detail. \n",
    "Otherwise, use the \"Hiring\" database specification below.\n",
    "\n",
    "The complexity of the schema must be at least 6 tables. \n",
    "It must be populated with a sufficient amount of data to allow interesting queries. \n",
    "You can use real data if available or generate fake data.\n",
    "\n",
    "Compose at least 12 nontrivial queries that use the major patterns we learned in class: selection, projection, joins, subqueries, and aggregations.\n",
    "\n"
   ]
  },
  {
   "cell_type": "markdown",
   "metadata": {},
   "source": [
    "## Schema specification: \"Hiring database\"\n",
    "\n",
    "The schema design \n",
    "\n",
    "1. Hiring managers have a name, phone, and email. \n",
    "2. A hiring manager can create job postings, including a job title, job description, open date, and the annual salary range (min and max). \n",
    "3. Each job posting has a set of required skills. You can use a set of programming languages as skills, including SQL and Python.\n",
    "4. Job seekers create profiles thas a name, phone, and email. \n",
    "5. Job seekers also list their skills. \n",
    "6. A job seeker can create an application for a specific job. \n",
    "7. A job manager can schedule an interview for a specific application for a specific date.\n",
    "8. A successful interview can lead to a job offer, including the start date and a starting salary. \n",
    "9. The offer is followed by an acceptance. "
   ]
  },
  {
   "cell_type": "markdown",
   "metadata": {
    "vscode": {
     "languageId": "plaintext"
    }
   },
   "source": [
    "## Populate\n",
    "\n",
    "- At least three hiring managers\n",
    "- At least 20 positions\n",
    "- At least six skills\n",
    "- At least 30 job seekers\n",
    "- At least 50 applications\n",
    "- At least 30 interviews\n",
    "- At least 10 job offers\n",
    "- At least 5 job acceptances."
   ]
  },
  {
   "cell_type": "markdown",
   "metadata": {
    "vscode": {
     "languageId": "plaintext"
    }
   },
   "source": [
    "### Queries\n",
    "\n",
    "If your query output is too long, limit it to 10 rows.\n",
    "\n",
    "1. List all open jobs requiring SQL, including the number of applicants for each. Do not include jobs for which someone has already accepted an offer.\n",
    "\n",
    "2. List all skills, including the number of jobs requiring that skill, and the average salary range for jobs requiring this skill.\n",
    "\n",
    "3. List all hiring managers, including the number of jobs they have posted, the number of interviews the have given, and the number of job offers they have issued, and the number of accepted offers.\n",
    "\n",
    "3. List all job seekers who have applied for two or more jobs.\n",
    "\n",
    "4. List the numes of all job seekers who have been given a job offer but have not yet accepted.\n",
    "\n",
    "5. List all job applications for which the job candidate has all the required skills. \n",
    "\n",
    "6. List the top three job postings with the most applications.\n",
    "\n",
    "Finally, write three more interesting queries, first describing them.\n",
    "\n"
   ]
  },
  {
   "cell_type": "code",
   "execution_count": null,
   "metadata": {
    "vscode": {
     "languageId": "plaintext"
    }
   },
   "outputs": [],
   "source": []
  }
 ],
 "metadata": {
  "language_info": {
   "name": "python"
  }
 },
 "nbformat": 4,
 "nbformat_minor": 2
}
