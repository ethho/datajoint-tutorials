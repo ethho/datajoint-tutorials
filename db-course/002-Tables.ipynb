{
 "cells": [
  {
   "cell_type": "markdown",
   "metadata": {},
   "source": [
    "# Tables\n",
    "\n",
    "The only data structure in relational databases is a table. All data are organized as tables. Tables cannot be nested. Tables have named columns. Each column has a datatype.\n",
    "\n",
    "## Schema\n",
    "A schema is a set of logically related tables, their definitions, including data integrity constraints.\n",
    "\n",
    "## \"Scholarly\" Terminology \n",
    "* Tables = relation\n",
    "* Column = attribute\n",
    "* Datatype = domain\n",
    "* Row = tuple\n",
    "* Field = attribute value\n",
    "\n",
    "## Relations\n",
    "Relational databases come from 19th-century set theory concepts. \n",
    "In that theory, a *relation* is a subset of a cartesian product of several sets.\n",
    "Operations on such sets yield nontrivial insights.\n",
    "\n",
    "## First normal form\n",
    " https://en.wikipedia.org/wiki/First_normal_form\n",
    "\n",
    "* All data are in relational tables\n",
    "* No repeated columns \n",
    "* No value in the table can contain another table (tables are not nested)\n",
    "\n",
    "\n"
   ]
  },
  {
   "cell_type": "markdown",
   "metadata": {},
   "source": [
    "## Second and Third Normal Form\n",
    "\n",
    "* https://en.wikipedia.org/wiki/Second_normal_form\n",
    "* https://en.wikipedia.org/wiki/Third_normal_form\n",
    "* All secondary attributes apply to the entity itself and to the whole entity\n",
    "* \"All attributes describe the key, the whole key, and nothing but the key\""
   ]
  },
  {
   "cell_type": "markdown",
   "metadata": {},
   "source": [
    "## Data Types\n",
    "https://dev.mysql.com/doc/refman/8.0/en/data-types.html\n",
    "\n",
    "*  `int [unsigned]`, `smallint [unsigned]`, `tinyint`, `bigint`\n",
    "* `char(n)`, `varchar(n)`\n",
    "* `decimal(m, n)` same as `numeric`\n",
    "* `enum`\n",
    "* `float`, `double` - don't use in primary keys\n",
    "* `date`\n",
    "\n",
    "\n",
    "## Entity Integrity\n",
    "\n",
    "\n",
    "Entity integrity is a set of database design principles and practices to ensure 1:1 correspondence between real-world entities and their digital representations in the database. Entity integrity may require a complex set of enterprise rules.\n",
    "\n",
    "1. Each table represents a well-defined entity type from the real world.  We reflect this in the table name.  The name of the table reflects the entity class represented by each row in the table.\n",
    "2. For each entity type, enforce 1:1 correspondence between the real-world entity and its representation in the table. How can you do it?\n",
    "3. In the real-world, we need to permanently associate a persistent identifier with each entity of the class. The database cannot do it by itself.\n",
    "4. The database can use the permanent identifier to enforce uniqueness in the table using a uniqueness constraint.\n",
    "5. A **primary key** is a unique, non-nullable index that is designated as the primary way to identify entitites in a table. Each tables must have a carefully chosen primary key. \n",
    "6. Secondary unique indexes can be nullable.\n",
    "\n",
    "\n",
    "\n"
   ]
  },
  {
   "cell_type": "code",
   "execution_count": 1,
   "metadata": {},
   "outputs": [],
   "source": [
    "import datajoint as dj"
   ]
  },
  {
   "cell_type": "code",
   "execution_count": 3,
   "metadata": {},
   "outputs": [],
   "source": [
    "schema = dj.Schema('test')"
   ]
  },
  {
   "cell_type": "code",
   "execution_count": 4,
   "metadata": {},
   "outputs": [],
   "source": [
    "@schema\n",
    "class Car(dj.Manual):\n",
    "    definition = \"\"\"\n",
    "    vin : char(17)\n",
    "    ---\n",
    "    make : varchar(16)\n",
    "    year : year\n",
    "    \"\"\"  "
   ]
  },
  {
   "cell_type": "code",
   "execution_count": 5,
   "metadata": {},
   "outputs": [],
   "source": [
    "@schema \n",
    "class Classroom(dj.Manual):\n",
    "    definition = \"\"\"\n",
    "    building_code : char(3)\n",
    "    room_number : smallint unsigned \n",
    "    ---\n",
    "    capacity : smallint unsigned\n",
    "    \"\"\"\n"
   ]
  }
 ],
 "metadata": {
  "kernelspec": {
   "display_name": "Python 3",
   "language": "python",
   "name": "python3"
  },
  "language_info": {
   "codemirror_mode": {
    "name": "ipython",
    "version": 3
   },
   "file_extension": ".py",
   "mimetype": "text/x-python",
   "name": "python",
   "nbconvert_exporter": "python",
   "pygments_lexer": "ipython3",
   "version": "3.9.17"
  },
  "orig_nbformat": 4
 },
 "nbformat": 4,
 "nbformat_minor": 2
}
